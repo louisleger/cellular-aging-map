{
 "cells": [
  {
   "cell_type": "code",
   "execution_count": null,
   "metadata": {},
   "outputs": [
    {
     "name": "stderr",
     "output_type": "stream",
     "text": [
      "100%|██████████| 4000/4000.0 [01:42<00:00, 38.97it/s]\n"
     ]
    },
    {
     "data": {
      "text/html": [
       "<div>\n",
       "<style scoped>\n",
       "    .dataframe tbody tr th:only-of-type {\n",
       "        vertical-align: middle;\n",
       "    }\n",
       "\n",
       "    .dataframe tbody tr th {\n",
       "        vertical-align: top;\n",
       "    }\n",
       "\n",
       "    .dataframe thead th {\n",
       "        text-align: right;\n",
       "    }\n",
       "</style>\n",
       "<table border=\"1\" class=\"dataframe\">\n",
       "  <thead>\n",
       "    <tr style=\"text-align: right;\">\n",
       "      <th></th>\n",
       "      <th>cell_type</th>\n",
       "      <th>tissue</th>\n",
       "      <th>development_stage</th>\n",
       "      <th>disease</th>\n",
       "    </tr>\n",
       "  </thead>\n",
       "  <tbody>\n",
       "    <tr>\n",
       "      <th>Top@1</th>\n",
       "      <td>0.903</td>\n",
       "      <td>0.856</td>\n",
       "      <td>0.948</td>\n",
       "      <td>0.954</td>\n",
       "    </tr>\n",
       "    <tr>\n",
       "      <th>Top@3</th>\n",
       "      <td>0.985</td>\n",
       "      <td>0.960</td>\n",
       "      <td>0.992</td>\n",
       "      <td>1.000</td>\n",
       "    </tr>\n",
       "  </tbody>\n",
       "</table>\n",
       "</div>"
      ],
      "text/plain": [
       "       cell_type  tissue  development_stage  disease\n",
       "Top@1      0.903   0.856              0.948    0.954\n",
       "Top@3      0.985   0.960              0.992    1.000"
      ]
     },
     "execution_count": 3,
     "metadata": {},
     "output_type": "execute_result"
    }
   ],
   "source": [
    "import sys\n",
    "import numpy as np\n",
    "import scanpy as sc\n",
    "import seaborn as sns\n",
    "import matplotlib.pyplot as plt\n",
    "sys.path.append(\"../../\") \n",
    "\n",
    "from cellular_aging_map.model.model import load_trained_model\n",
    "model, tokenizer = load_trained_model(\"../../../saved/polygene-cam/\", checkpoint_n=0)\n",
    "from cellular_aging_map.eval import metrics\n",
    "metrics.accuracy_table(model, tokenizer, shard_path=\"/media/rohola/ssd_storage/primary/cxg_chunk0.h5ad\",\n",
    "                       phenotype_types=[\"cell_type\",\"tissue\", \"development_stage\", \"disease\"], topk=3, masking=False, n_cells=1000)"
   ]
  }
 ],
 "metadata": {
  "kernelspec": {
   "display_name": "gene",
   "language": "python",
   "name": "python3"
  },
  "language_info": {
   "codemirror_mode": {
    "name": "ipython",
    "version": 3
   },
   "file_extension": ".py",
   "mimetype": "text/x-python",
   "name": "python",
   "nbconvert_exporter": "python",
   "pygments_lexer": "ipython3",
   "version": "3.10.16"
  }
 },
 "nbformat": 4,
 "nbformat_minor": 2
}
